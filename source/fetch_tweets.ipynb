{
 "metadata": {
  "language_info": {
   "codemirror_mode": {
    "name": "ipython",
    "version": 3
   },
   "file_extension": ".py",
   "mimetype": "text/x-python",
   "name": "python",
   "nbconvert_exporter": "python",
   "pygments_lexer": "ipython3",
   "version": "3.8.5-final"
  },
  "orig_nbformat": 2,
  "kernelspec": {
   "name": "python3",
   "display_name": "Python 3"
  }
 },
 "nbformat": 4,
 "nbformat_minor": 2,
 "cells": [
  {
   "cell_type": "code",
   "execution_count": 39,
   "metadata": {},
   "outputs": [],
   "source": [
    "import requests\n",
    "import json\n",
    "import getpass\n",
    "import pandas as pd\n",
    "from pandas.io.json import json_normalize\n",
    "import time"
   ]
  },
  {
   "cell_type": "code",
   "execution_count": 3,
   "metadata": {},
   "outputs": [],
   "source": [
    "bearer_token = getpass.getpass()"
   ]
  },
  {
   "cell_type": "code",
   "execution_count": 8,
   "metadata": {},
   "outputs": [],
   "source": [
    "headers = {\n",
    "    'Authorization':'Bearer ' + bearer_token\n",
    "}"
   ]
  },
  {
   "cell_type": "code",
   "execution_count": 49,
   "metadata": {},
   "outputs": [],
   "source": [
    "data = dict()"
   ]
  },
  {
   "cell_type": "code",
   "execution_count": 34,
   "metadata": {},
   "outputs": [],
   "source": [
    "with open('../datasets/cresci-rtbust-2019_tweets.json') as jsfile:\n",
    "    cresci_rtbust_2019_data = json.load(jsfile)\n",
    "cresci_rtbust_2019_data = json_normalize(cresci_rtbust_2019_data)\n",
    "cresci_rtbust_2019_data.rename(columns= {'created_at': 'probe_timestamp', 'user.id': 'user-id'}, inplace=True)\n",
    "cresci_rtbust_2019_data.columns = cresci_rtbust_2019_data.columns.str.replace(r'^user\\.','')"
   ]
  },
  {
   "cell_type": "code",
   "execution_count": 61,
   "metadata": {},
   "outputs": [],
   "source": [
    "for username in cresci_rtbust_2019_data['screen_name'][500:]:\n",
    "    url = f'https://api.twitter.com/2/tweets/search/recent?query=from:{username}&tweet.fields=attachments,author_id,context_annotations,conversation_id,created_at,entities,geo,id,in_reply_to_user_id,lang,public_metrics,possibly_sensitive,referenced_tweets,source,text,withheld'\n",
    "    response = requests.request('GET',url,headers=headers)\n",
    "    tweets = response.json()\n",
    "    del tweets['meta']\n",
    "    data[username] = tweets"
   ]
  },
  {
   "cell_type": "code",
   "execution_count": 79,
   "metadata": {
    "tags": []
   },
   "outputs": [],
   "source": [
    "data2 = list()\n",
    "for user in data:\n",
    "    data[user]['screen_name'] = user\n",
    "    if('data' in data[user]):\n",
    "        data[user]['recent_tweets'] = len(data[user]['data'])\n",
    "    else:\n",
    "        data[user]['recent_tweets'] = 0\n",
    "    data2.append(data[user])"
   ]
  },
  {
   "cell_type": "code",
   "execution_count": 80,
   "metadata": {},
   "outputs": [],
   "source": [
    "with open('../tweets/cresci_rtbust_2019.json','w') as outfile:\n",
    "    json.dump(data2, outfile)"
   ]
  }
 ]
}