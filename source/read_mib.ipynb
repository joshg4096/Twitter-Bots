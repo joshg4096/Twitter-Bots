{
 "metadata": {
  "language_info": {
   "codemirror_mode": {
    "name": "ipython",
    "version": 3
   },
   "file_extension": ".py",
   "mimetype": "text/x-python",
   "name": "python",
   "nbconvert_exporter": "python",
   "pygments_lexer": "ipython3",
   "version": "3.8.5-final"
  },
  "orig_nbformat": 2,
  "kernelspec": {
   "name": "python3",
   "display_name": "Python 3"
  }
 },
 "nbformat": 4,
 "nbformat_minor": 2,
 "cells": [
  {
   "cell_type": "code",
   "execution_count": 1,
   "metadata": {},
   "outputs": [],
   "source": [
    "import numpy as np\n",
    "import pandas as pd"
   ]
  },
  {
   "source": [
    "[MIB dataset](http://mib.projects.iit.cnr.it/dataset.html)"
   ],
   "cell_type": "markdown",
   "metadata": {}
  },
  {
   "cell_type": "code",
   "execution_count": 2,
   "metadata": {},
   "outputs": [],
   "source": [
    "mib_fake_follower_users = pd.read_csv('../datasets/MIB/datasets_full.csv/fake_followers.csv/users.csv')\n",
    "mib_fake_follower_tweets = pd.read_csv('../datasets/MIB/datasets_full.csv/fake_followers.csv/tweets.csv')"
   ]
  },
  {
   "cell_type": "code",
   "execution_count": 3,
   "metadata": {},
   "outputs": [],
   "source": [
    "mib_social_spambots_1_users = pd.read_csv('../datasets/MIB/datasets_full.csv/social_spambots_1.csv/users.csv')\n",
    "mib_social_spambots_1_tweets = pd.read_csv('../datasets/MIB/datasets_full.csv/social_spambots_1.csv/tweets.csv')"
   ]
  },
  {
   "cell_type": "code",
   "execution_count": 4,
   "metadata": {},
   "outputs": [],
   "source": [
    "mib_social_spambots_2_users = pd.read_csv('../datasets/MIB/datasets_full.csv/social_spambots_2.csv/users.csv')\n",
    "mib_social_spambots_2_tweets = pd.read_csv('../datasets/MIB/datasets_full.csv/social_spambots_2.csv/tweets.csv')"
   ]
  },
  {
   "cell_type": "code",
   "execution_count": 5,
   "metadata": {},
   "outputs": [],
   "source": [
    "mib_social_spambots_3_users = pd.read_csv('../datasets/MIB/datasets_full.csv/social_spambots_3.csv/users.csv')\n",
    "mib_social_spambots_3_tweets = pd.read_csv('../datasets/MIB/datasets_full.csv/social_spambots_3.csv/tweets.csv')"
   ]
  },
  {
   "cell_type": "code",
   "execution_count": 6,
   "metadata": {},
   "outputs": [],
   "source": [
    "mib_traditional_spambots_1_users = pd.read_csv('../datasets/MIB/datasets_full.csv/traditional_spambots_1.csv/users.csv')\n",
    "mib_traditional_spambots_1_tweets = pd.read_csv('../datasets/MIB/datasets_full.csv/traditional_spambots_1.csv/tweets.csv')"
   ]
  },
  {
   "cell_type": "code",
   "execution_count": 7,
   "metadata": {},
   "outputs": [],
   "source": [
    "mib_humans_users = pd.read_csv('../datasets/MIB/datasets_full.csv/genuine_accounts.csv/users.csv')\n",
    "mib_humans_tweets = pd.read_csv('../datasets/MIB/datasets_full.csv/genuine_accounts.csv/tweets.csv',names=[\"id\",\"text\",\"source\",\"user_id\",\"truncated\",\"in_reply_to_status_id\",\"in_reply_to_user_id\",\"in_reply_to_screen_name\",\"retweeted_status_id\",\"geo\",\"place\",\"contributors\",\"retweet_count\",\"reply_count\",\"favorite_count\",\"favorited\",\"retweeted\",\"possibly_sensitive\",\"num_hashtags\",\"num_urls\",\"num_mentions\",\"created_at\",\"timestamp\",\"crawled_at\",\"updated\"], escapechar='\\\\', index_col=False)"
   ]
  }
 ]
}