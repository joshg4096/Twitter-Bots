{
 "cells": [
  {
   "cell_type": "markdown",
   "metadata": {},
   "source": [
    "## Notebook: initialization.ipynb\n",
    "This notebook is used for scraping data and storing it in a directory for use in our classifier."
   ]
  },
  {
   "source": [
    "import json\n",
    "import numpy as np\n",
    "import pandas as pd\n",
    "from pandas.io.json import json_normalize\n"
   ],
   "cell_type": "code",
   "metadata": {},
   "execution_count": 1,
   "outputs": []
  },
  {
   "source": [
    "Load data, normalize json, combine with bot identification\n",
    "\n",
    "Dataset is from [OSoMe botometer](https://botometer.osome.iu.edu/bot-repository/datasets/cresci-rtbust-2019/cresci-rtbust-2019.tar.gz)"
   ],
   "cell_type": "markdown",
   "metadata": {}
  },
  {
   "source": [
    "with open('../datasets/cresci-rtbust-2019_tweets.json') as jsfile:\n",
    "    cresci_rtbust_2019_data = json.load(jsfile)\n",
    "cresci_rtbust_2019_norm = json_normalize(cresci_rtbust_2019_data)\n",
    "cresci_rtbust_2019_norm.rename(columns= {'created_at': 'probe_timestamp', 'user.id': 'user-id'}, inplace=True)\n",
    "cresci_rtbust_2019_norm.columns = cresci_rtbust_2019_norm.columns.str.replace(r'^user\\.','')\n",
    "\n",
    "cresci_rtbust_2019_identification = pd.read_csv('../datasets/cresci-rtbust-2019.tsv', sep='\\t')\n",
    "cresci_rtbust_2019_identification.columns = ['user-id','identification']\n",
    "cresci_rtbust_2019 = pd.merge(cresci_rtbust_2019_identification, cresci_rtbust_2019_norm, how='inner', on='user-id')\n",
    "cresci_rtbust_2019_bots = cresci_rtbust_2019[(cresci_rtbust_2019.identification=='bot')]\n",
    "cresci_rtbust_2019_humans = cresci_rtbust_2019[(cresci_rtbust_2019.identification=='human')]\n"
   ],
   "cell_type": "code",
   "metadata": {},
   "execution_count": 2,
   "outputs": []
  },
  {
   "cell_type": "code",
   "execution_count": 3,
   "metadata": {},
   "outputs": [
    {
     "output_type": "execute_result",
     "data": {
      "text/plain": [
       "     followers_count  friends_count  favourites_count  verified  \\\n",
       "0                289            401               213     False   \n",
       "3                  9             26               140     False   \n",
       "5                 15             24                52     False   \n",
       "7                  2              1                15     False   \n",
       "10                27             16               153     False   \n",
       "..               ...            ...               ...       ...   \n",
       "681                4              8              4851     False   \n",
       "682                9              8              4023     False   \n",
       "684             2201           1113            128007     False   \n",
       "688             1041           1380              2301     False   \n",
       "691               28             30              6921     False   \n",
       "\n",
       "     statuses_count  listed_count  \n",
       "0              3210             1  \n",
       "3              2581             0  \n",
       "5               496             0  \n",
       "7              1641             0  \n",
       "10             1750             0  \n",
       "..              ...           ...  \n",
       "681            4853            15  \n",
       "682            4028             0  \n",
       "684          130575            12  \n",
       "688           28522             4  \n",
       "691            6808            24  \n",
       "\n",
       "[353 rows x 6 columns]"
      ],
      "text/html": "<div>\n<style scoped>\n    .dataframe tbody tr th:only-of-type {\n        vertical-align: middle;\n    }\n\n    .dataframe tbody tr th {\n        vertical-align: top;\n    }\n\n    .dataframe thead th {\n        text-align: right;\n    }\n</style>\n<table border=\"1\" class=\"dataframe\">\n  <thead>\n    <tr style=\"text-align: right;\">\n      <th></th>\n      <th>followers_count</th>\n      <th>friends_count</th>\n      <th>favourites_count</th>\n      <th>verified</th>\n      <th>statuses_count</th>\n      <th>listed_count</th>\n    </tr>\n  </thead>\n  <tbody>\n    <tr>\n      <th>0</th>\n      <td>289</td>\n      <td>401</td>\n      <td>213</td>\n      <td>False</td>\n      <td>3210</td>\n      <td>1</td>\n    </tr>\n    <tr>\n      <th>3</th>\n      <td>9</td>\n      <td>26</td>\n      <td>140</td>\n      <td>False</td>\n      <td>2581</td>\n      <td>0</td>\n    </tr>\n    <tr>\n      <th>5</th>\n      <td>15</td>\n      <td>24</td>\n      <td>52</td>\n      <td>False</td>\n      <td>496</td>\n      <td>0</td>\n    </tr>\n    <tr>\n      <th>7</th>\n      <td>2</td>\n      <td>1</td>\n      <td>15</td>\n      <td>False</td>\n      <td>1641</td>\n      <td>0</td>\n    </tr>\n    <tr>\n      <th>10</th>\n      <td>27</td>\n      <td>16</td>\n      <td>153</td>\n      <td>False</td>\n      <td>1750</td>\n      <td>0</td>\n    </tr>\n    <tr>\n      <th>...</th>\n      <td>...</td>\n      <td>...</td>\n      <td>...</td>\n      <td>...</td>\n      <td>...</td>\n      <td>...</td>\n    </tr>\n    <tr>\n      <th>681</th>\n      <td>4</td>\n      <td>8</td>\n      <td>4851</td>\n      <td>False</td>\n      <td>4853</td>\n      <td>15</td>\n    </tr>\n    <tr>\n      <th>682</th>\n      <td>9</td>\n      <td>8</td>\n      <td>4023</td>\n      <td>False</td>\n      <td>4028</td>\n      <td>0</td>\n    </tr>\n    <tr>\n      <th>684</th>\n      <td>2201</td>\n      <td>1113</td>\n      <td>128007</td>\n      <td>False</td>\n      <td>130575</td>\n      <td>12</td>\n    </tr>\n    <tr>\n      <th>688</th>\n      <td>1041</td>\n      <td>1380</td>\n      <td>2301</td>\n      <td>False</td>\n      <td>28522</td>\n      <td>4</td>\n    </tr>\n    <tr>\n      <th>691</th>\n      <td>28</td>\n      <td>30</td>\n      <td>6921</td>\n      <td>False</td>\n      <td>6808</td>\n      <td>24</td>\n    </tr>\n  </tbody>\n</table>\n<p>353 rows × 6 columns</p>\n</div>"
     },
     "metadata": {},
     "execution_count": 3
    }
   ],
   "source": [
    "cresci_rtbust_2019_bots[['followers_count','friends_count','favourites_count','verified','statuses_count','listed_count']]"
   ]
  },
  {
   "cell_type": "code",
   "execution_count": 4,
   "metadata": {},
   "outputs": [],
   "source": [
    "midterm_2018_data = pd.read_json('../datasets/midterm-2018_processed_user_objects.json')\n",
    "midterm_2018_identification = pd.read_csv('../datasets/midterm-2018.tsv', sep='\\t')\n",
    "midterm_2018_identification.columns = ['user_id','identification']\n",
    "midterm_2018 = pd.merge(midterm_2018_data, midterm_2018_identification, how='inner', on='user_id')\n",
    "midterm_2018_bots = midterm_2018[(midterm_2018.identification=='bot')]\n",
    "midterm_2018_humans = midterm_2018[(midterm_2018.identification=='human')]"
   ]
  },
  {
   "cell_type": "code",
   "execution_count": 5,
   "metadata": {},
   "outputs": [
    {
     "output_type": "execute_result",
     "data": {
      "text/plain": [
       "['user-id',\n",
       " 'identification',\n",
       " 'probe_timestamp',\n",
       " 'id_str',\n",
       " 'name',\n",
       " 'screen_name',\n",
       " 'location',\n",
       " 'description',\n",
       " 'url',\n",
       " 'entities.description.urls',\n",
       " 'protected',\n",
       " 'followers_count',\n",
       " 'friends_count',\n",
       " 'listed_count',\n",
       " 'created_at',\n",
       " 'favourites_count',\n",
       " 'utc_offset',\n",
       " 'time_zone',\n",
       " 'geo_enabled',\n",
       " 'verified',\n",
       " 'statuses_count',\n",
       " 'lang',\n",
       " 'contributors_enabled',\n",
       " 'is_translator',\n",
       " 'is_translation_enabled',\n",
       " 'profile_background_color',\n",
       " 'profile_background_image_url',\n",
       " 'profile_background_image_url_https',\n",
       " 'profile_background_tile',\n",
       " 'profile_image_url',\n",
       " 'profile_image_url_https',\n",
       " 'profile_banner_url',\n",
       " 'profile_link_color',\n",
       " 'profile_sidebar_border_color',\n",
       " 'profile_sidebar_fill_color',\n",
       " 'profile_text_color',\n",
       " 'profile_use_background_image',\n",
       " 'has_extended_profile',\n",
       " 'default_profile',\n",
       " 'default_profile_image',\n",
       " 'following',\n",
       " 'follow_request_sent',\n",
       " 'notifications',\n",
       " 'translator_type',\n",
       " 'entities.url.urls']"
      ]
     },
     "metadata": {},
     "execution_count": 5
    }
   ],
   "source": [
    "list(cresci_rtbust_2019.columns)"
   ]
  },
  {
   "cell_type": "code",
   "execution_count": 6,
   "metadata": {},
   "outputs": [
    {
     "output_type": "execute_result",
     "data": {
      "text/plain": [
       "['probe_timestamp',\n",
       " 'user_id',\n",
       " 'screen_name',\n",
       " 'name',\n",
       " 'description',\n",
       " 'user_created_at',\n",
       " 'url',\n",
       " 'lang',\n",
       " 'protected',\n",
       " 'verified',\n",
       " 'geo_enabled',\n",
       " 'profile_use_background_image',\n",
       " 'default_profile',\n",
       " 'followers_count',\n",
       " 'friends_count',\n",
       " 'listed_count',\n",
       " 'favourites_count',\n",
       " 'statuses_count',\n",
       " 'tid',\n",
       " 'identification']"
      ]
     },
     "metadata": {},
     "execution_count": 6
    }
   ],
   "source": [
    "\n",
    "list(midterm_2018.columns)"
   ]
  },
  {
   "cell_type": "code",
   "execution_count": null,
   "metadata": {},
   "outputs": [],
   "source": []
  }
 ],
 "metadata": {
  "kernelspec": {
   "display_name": "Python 3",
   "language": "python",
   "name": "python3"
  },
  "language_info": {
   "codemirror_mode": {
    "name": "ipython",
    "version": 3
   },
   "file_extension": ".py",
   "mimetype": "text/x-python",
   "name": "python",
   "nbconvert_exporter": "python",
   "pygments_lexer": "ipython3",
   "version": "3.8.5-final"
  }
 },
 "nbformat": 4,
 "nbformat_minor": 2
}