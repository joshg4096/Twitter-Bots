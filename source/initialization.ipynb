{
 "cells": [
  {
   "cell_type": "markdown",
   "metadata": {},
   "source": [
    "## Notebook: initialization.ipynb\n",
    "This notebook is used for scraping data and storing it in a directory for use in our classifier."
   ]
  },
  {
   "source": [
    "import numpy as np\n",
    "import pandas as pd"
   ],
   "cell_type": "code",
   "metadata": {},
   "execution_count": 1,
   "outputs": []
  },
  {
   "cell_type": "code",
   "execution_count": 2,
   "metadata": {},
   "outputs": [],
   "source": [
    "cresci_rtbust_2019 = pd.read_json('../datasets/cresci-rtbust-2019_tweets.json')\n",
    "cresci_rtbust_2019_identification = pd.read_csv('../datasets/cresci-rtbust-2019.tsv', sep='\\t')"
   ]
  },
  {
   "cell_type": "code",
   "execution_count": 3,
   "metadata": {},
   "outputs": [
    {
     "output_type": "stream",
     "name": "stdout",
     "text": [
      "                   created_at  \\\n0   2019-05-15 16:00:19+00:00   \n1   2019-05-16 20:07:35+00:00   \n2   2019-05-17 17:22:28+00:00   \n3   2018-09-24 13:01:10+00:00   \n4   2019-05-15 16:41:07+00:00   \n..                        ...   \n688 2019-05-02 12:09:25+00:00   \n689 2019-05-14 20:28:27+00:00   \n690 2019-05-17 15:07:18+00:00   \n691 2019-05-15 14:51:25+00:00   \n692 2019-05-15 17:28:10+00:00   \n\n                                                  user  \n0    {'id': 3022357312, 'id_str': '3022357312', 'na...  \n1    {'id': 753659579582541824, 'id_str': '75365957...  \n2    {'id': 901802279623417856, 'id_str': '90180227...  \n3    {'id': 2982392825, 'id_str': '2982392825', 'na...  \n4    {'id': 825436422609969152, 'id_str': '82543642...  \n..                                                 ...  \n688  {'id': 2982573165, 'id_str': '2982573165', 'na...  \n689  {'id': 825698658695905280, 'id_str': '82569865...  \n690  {'id': 751371698327416832, 'id_str': '75137169...  \n691  {'id': 726755736236253184, 'id_str': '72675573...  \n692  {'id': 835202996585787392, 'id_str': '83520299...  \n\n[693 rows x 2 columns]\n"
     ]
    }
   ],
   "source": [
    "print(cresci_rtbust_2019)"
   ]
  },
  {
   "cell_type": "code",
   "execution_count": 4,
   "metadata": {},
   "outputs": [
    {
     "output_type": "stream",
     "name": "stdout",
     "text": [
      "              3039154799  human\n0              390617262    bot\n1             4611389296  human\n2     734396807745286145  human\n3    1010978324569640960    bot\n4    1012447780504326145  human\n..                   ...    ...\n753   728820417805340672  human\n754            470253363    bot\n755   908709155137032192  human\n756   875005129103200257  human\n757   751364095639773184    bot\n\n[758 rows x 2 columns]\n"
     ]
    }
   ],
   "source": [
    "print(cresci_rtbust_2019_identification)"
   ]
  },
  {
   "cell_type": "code",
   "execution_count": null,
   "metadata": {},
   "outputs": [],
   "source": []
  }
 ],
 "metadata": {
  "kernelspec": {
   "display_name": "Python 3",
   "language": "python",
   "name": "python3"
  },
  "language_info": {
   "codemirror_mode": {
    "name": "ipython",
    "version": 3
   },
   "file_extension": ".py",
   "mimetype": "text/x-python",
   "name": "python",
   "nbconvert_exporter": "python",
   "pygments_lexer": "ipython3",
   "version": "3.8.5-final"
  }
 },
 "nbformat": 4,
 "nbformat_minor": 2
}