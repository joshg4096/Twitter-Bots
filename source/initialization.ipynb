{
 "cells": [
  {
   "cell_type": "markdown",
   "metadata": {},
   "source": [
    "## Notebook: initialization.ipynb\n",
    "This notebook is used for scraping data and storing it in a directory for use in our classifier."
   ]
  },
  {
   "source": [
    "import json\n",
    "import numpy as np\n",
    "import pandas as pd\n",
    "from pandas.io.json import json_normalize"
   ],
   "cell_type": "code",
   "metadata": {},
   "execution_count": 1,
   "outputs": []
  },
  {
   "cell_type": "code",
   "execution_count": 2,
   "metadata": {},
   "outputs": [],
   "source": [
    "with open('../datasets/cresci-rtbust-2019_tweets.json') as jsfile:\n",
    "    cresci_rtbust_2019_data = json.load(jsfile)\n",
    "cresci_rtbust_2019_norm = json_normalize(cresci_rtbust_2019_data)\n",
    "cresci_rtbust_2019_identification = pd.read_csv('../datasets/cresci-rtbust-2019.tsv', sep='\\t')"
   ]
  },
  {
   "cell_type": "code",
   "execution_count": 3,
   "metadata": {},
   "outputs": [
    {
     "output_type": "stream",
     "name": "stdout",
     "text": [
      "                         created_at             user.id         user.id_str  \\\n0    Wed May 15 16:00:19 +0000 2019          3022357312          3022357312   \n1    Thu May 16 20:07:35 +0000 2019  753659579582541824  753659579582541824   \n2    Fri May 17 17:22:28 +0000 2019  901802279623417856  901802279623417856   \n3    Mon Sep 24 13:01:10 +0000 2018          2982392825          2982392825   \n4    Wed May 15 16:41:07 +0000 2019  825436422609969152  825436422609969152   \n..                              ...                 ...                 ...   \n688  Thu May 02 12:09:25 +0000 2019          2982573165          2982573165   \n689  Tue May 14 20:28:27 +0000 2019  825698658695905280  825698658695905280   \n690  Fri May 17 15:07:18 +0000 2019  751371698327416832  751371698327416832   \n691  Wed May 15 14:51:25 +0000 2019  726755736236253184  726755736236253184   \n692  Wed May 15 17:28:10 +0000 2019  835202996585787392  835202996585787392   \n\n                                   user.name user.screen_name  \\\n0                                  patatavis         pattavis   \n1    #1DMITAMProject ♡ #OneDirectionBestFans  PromotingLouisT   \n2                              Anna 05600885       Anna10mila   \n3                                      Hanna        AlleHanna   \n4                                Zaffiro Blu      ZaffiroBlu3   \n..                                       ...              ...   \n688                           Paola Cacciari          nichilu   \n689                               @FiloRosso       FiloRosso2   \n690                          mario_anselmi72  mario_anselmi72   \n691                                    anna.      papersouls_   \n692                            Camilla Fiore      _CamillaFio   \n\n         user.location                                   user.description  \\\n0                                                                           \n1                Italy  ➡ here we promote all of the boys' music 🐼💖\\n\\...   \n2    Milano, Lombardia                                 Sii il cambiamento   \n3                                                                           \n4                                           Se puoi sognarlo puoi farlo 💙   \n..                 ...                                                ...   \n688                                                                         \n689                     { É rosso e forte il filo che tiene due anime ...   \n690                                                                         \n691             Italia  le mie chiavi di casa. @michele_bravi @GreysAB...   \n692                                                                         \n\n                    user.url user.entities.description.urls  user.protected  \\\n0                       None                             []           False   \n1    https://t.co/8HvscWygQd                             []           False   \n2                       None                             []           False   \n3                       None                             []           False   \n4                       None                             []           False   \n..                       ...                            ...             ...   \n688                     None                             []           False   \n689                     None                             []           False   \n690                     None                             []           False   \n691  https://t.co/oJSzdcXfnP                             []           False   \n692                     None                             []           False   \n\n     ...  user.profile_text_color  user.profile_use_background_image  \\\n0    ...                   333333                               True   \n1    ...                   333333                               True   \n2    ...                   333333                               True   \n3    ...                   333333                               True   \n4    ...                   333333                               True   \n..   ...                      ...                                ...   \n688  ...                   333333                               True   \n689  ...                   333333                               True   \n690  ...                   333333                               True   \n691  ...                   333333                               True   \n692  ...                   333333                               True   \n\n     user.has_extended_profile user.default_profile  \\\n0                        False                 True   \n1                        False                 True   \n2                        False                 True   \n3                        False                 True   \n4                        False                 True   \n..                         ...                  ...   \n688                      False                 True   \n689                       True                 True   \n690                       True                 True   \n691                       True                 True   \n692                      False                 True   \n\n     user.default_profile_image user.following user.follow_request_sent  \\\n0                         False          False                    False   \n1                         False          False                    False   \n2                         False          False                    False   \n3                         False          False                    False   \n4                         False          False                    False   \n..                          ...            ...                      ...   \n688                       False          False                    False   \n689                       False          False                    False   \n690                       False          False                    False   \n691                       False          False                    False   \n692                       False          False                    False   \n\n     user.notifications  user.translator_type  \\\n0                 False                  none   \n1                 False                  none   \n2                 False                  none   \n3                 False                  none   \n4                 False                  none   \n..                  ...                   ...   \n688               False                  none   \n689               False                  none   \n690               False                  none   \n691               False                  none   \n692               False                  none   \n\n                                user.entities.url.urls  \n0                                                  NaN  \n1    [{'url': 'https://t.co/8HvscWygQd', 'expanded_...  \n2                                                  NaN  \n3                                                  NaN  \n4                                                  NaN  \n..                                                 ...  \n688                                                NaN  \n689                                                NaN  \n690                                                NaN  \n691  [{'url': 'https://t.co/oJSzdcXfnP', 'expanded_...  \n692                                                NaN  \n\n[693 rows x 44 columns]\n              3039154799  human\n0              390617262    bot\n1             4611389296  human\n2     734396807745286145  human\n3    1010978324569640960    bot\n4    1012447780504326145  human\n..                   ...    ...\n753   728820417805340672  human\n754            470253363    bot\n755   908709155137032192  human\n756   875005129103200257  human\n757   751364095639773184    bot\n\n[758 rows x 2 columns]\n"
     ]
    }
   ],
   "source": [
    "print(cresci_rtbust_2019_norm)\n",
    "print(cresci_rtbust_2019_identification)"
   ]
  },
  {
   "cell_type": "code",
   "execution_count": null,
   "metadata": {},
   "outputs": [],
   "source": []
  }
 ],
 "metadata": {
  "kernelspec": {
   "display_name": "Python 3",
   "language": "python",
   "name": "python3"
  },
  "language_info": {
   "codemirror_mode": {
    "name": "ipython",
    "version": 3
   },
   "file_extension": ".py",
   "mimetype": "text/x-python",
   "name": "python",
   "nbconvert_exporter": "python",
   "pygments_lexer": "ipython3",
   "version": "3.8.5-final"
  }
 },
 "nbformat": 4,
 "nbformat_minor": 2
}